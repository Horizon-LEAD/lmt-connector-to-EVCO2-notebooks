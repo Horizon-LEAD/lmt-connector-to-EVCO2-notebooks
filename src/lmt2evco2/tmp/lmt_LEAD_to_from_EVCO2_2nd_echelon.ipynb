{
 "cells": [
  {
   "cell_type": "markdown",
   "id": "baadc249",
   "metadata": {},
   "source": [
    "### Import and install required packages and libraries"
   ]
  },
  {
   "cell_type": "code",
   "execution_count": 1,
   "id": "39e37e66",
   "metadata": {},
   "outputs": [],
   "source": [
    "# uncomment the applicable line to install (needed only once)\n",
    "\n",
    "# For MacOs and Linux\n",
    "# %pip install tk\n",
    "# %pip install openpyxl\n",
    "# %pip install pandas\n",
    "# %pip install requests\n",
    "\n",
    "# For Windows"
   ]
  },
  {
   "cell_type": "code",
   "execution_count": 2,
   "id": "2eba37b1",
   "metadata": {},
   "outputs": [],
   "source": [
    "# import required libraries\n",
    "import warnings\n",
    "warnings.filterwarnings(\"ignore\")\n",
    "import tkinter\n",
    "import csv\n",
    "from csv import reader\n",
    "import os\n",
    "import json\n",
    "from tkinter import filedialog\n",
    "from tkinter import *\n",
    "import pandas as pd\n",
    "import requests\n",
    "from zipfile import ZipFile\n",
    "from pathlib import Path\n",
    "import requests"
   ]
  },
  {
   "cell_type": "markdown",
   "id": "f8e896bc",
   "metadata": {},
   "source": [
    "### Select working directory"
   ]
  },
  {
   "cell_type": "code",
   "execution_count": 3,
   "id": "b65709a5",
   "metadata": {},
   "outputs": [
    {
     "name": "stdout",
     "output_type": "stream",
     "text": [
      "/Users/angel/Dropbox (Last Mile Team)/Lis/22_Madrid LL/LL_2_to-be_lmt_diesel_van _electric_scooter_runs/20220503_to-be_lmt_diesel_van _electric_scooter\n"
     ]
    }
   ],
   "source": [
    "def browse_button():\n",
    "    # select a directory and store it in global var \"folder_path\"\n",
    "    global folder_path\n",
    "    filename = filedialog.askdirectory(initialdir='/Users/angel/Dropbox (Last Mile Team)/Mac/Desktop')\n",
    "    folder_path.set(filename)\n",
    "    print(filename)\n",
    "    root.destroy()\n",
    "\n",
    "root = Tk()\n",
    "folder_path = StringVar()\n",
    "lbl1 = Label(master=root,textvariable=folder_path)\n",
    "lbl1.grid(row=0, column=1)\n",
    "button2 = Button(text=\"Browse\", command=browse_button)\n",
    "button2.grid(row=0, column=3)\n",
    "\n",
    "mainloop()\n",
    "wdir = os.path.join(folder_path.get())\n",
    "os.chdir(wdir)"
   ]
  },
  {
   "cell_type": "markdown",
   "id": "9fe57a8a",
   "metadata": {},
   "source": [
    "### Request energy generation data to REData API"
   ]
  },
  {
   "cell_type": "code",
   "execution_count": 4,
   "id": "76ffa281",
   "metadata": {},
   "outputs": [],
   "source": [
    "url1 = \"https://apidatos.ree.es/en/datos/balance/balance-electrico?start_date={}T00:00&end_date={}T23:59&time_trunc=day\"\n",
    "date1 = wdir.split(\"/\")[-1][:8]\n",
    "date2 = date1[:4] + \"-\" + date1[4:6] + \"-\" + date1[6:8]\n",
    "r = requests.get(url1.format(date2, date2)).json()\n",
    "ren = r[\"included\"][0][\"attributes\"][\"content\"][-1][\"attributes\"][\"total\"]\n",
    "nren = r[\"included\"][1][\"attributes\"][\"content\"][-1][\"attributes\"][\"total\"]\n",
    "tenergy = ren + nren\n",
    "\n",
    "Combined_cycle = r[\"included\"][1][\"attributes\"][\"content\"][2][\"attributes\"][\"total\"]\n",
    "Coal = r[\"included\"][1][\"attributes\"][\"content\"][3][\"attributes\"][\"total\"]\n",
    "Diesel_engines = r[\"included\"][1][\"attributes\"][\"content\"][4][\"attributes\"][\"total\"]\n",
    "Gas_turbine = r[\"included\"][1][\"attributes\"][\"content\"][5][\"attributes\"][\"total\"]\n",
    "Steam_turbine = r[\"included\"][1][\"attributes\"][\"content\"][6][\"attributes\"][\"total\"] \n",
    "Cogeneration = r[\"included\"][1][\"attributes\"][\"content\"][7][\"attributes\"][\"total\"]\n",
    "Non_renewable_waste = r[\"included\"][1][\"attributes\"][\"content\"][8][\"attributes\"][\"total\"]\n",
    "\n",
    "Combined_cycle_p = 100 * Combined_cycle / tenergy\n",
    "Coal_p = 100 * Coal/tenergy\n",
    "Diesel_engines_p = 100 * Diesel_engines/tenergy\n",
    "Gas_turbine_p = 100 * Gas_turbine / tenergy\n",
    "Steam_turbine_p = 100 * Steam_turbine/ tenergy\n",
    "ogeneration_p = 100 * Cogeneration / tenergy\n",
    "Non_renewable_waste_p = 100 * Non_renewable_waste/ tenergy\n",
    "df1 = pd.read_excel(\"lmt_LEAD_input_to_EVCO2_factors.xlsx\")\n",
    "df1[\"Generation_percentage\"] = [Combined_cycle_p, Coal_p, Diesel_engines_p, Gas_turbine_p, Steam_turbine_p, ogeneration_p, Non_renewable_waste_p]\n",
    "df1.to_excel(\"lmt_LEAD_input_to_EVCO2_factors.xlsx\", index = False)"
   ]
  },
  {
   "cell_type": "markdown",
   "id": "2f578a93",
   "metadata": {},
   "source": [
    "### Calculate SECOND echelon EVs energy consumption and associated CO2 emissions"
   ]
  },
  {
   "cell_type": "code",
   "execution_count": 5,
   "id": "1b516471",
   "metadata": {},
   "outputs": [],
   "source": [
    "input1 = open(\"lmt_LEAD_input_to_EVCO2_2.json\")\n",
    "lmt_json = json.load(input1)[0]\n",
    "df2 = pd.read_excel(\"lmt_LEAD_input_to_EVCO2_2_energy_consumption.xlsx\")\n",
    "a1 = lmt_json[\"ResponsePlanId\"]\n",
    "a2 = lmt_json[\"Category\"]\n",
    "a3 = lmt_json[\"Fuel\"]\n",
    "a4 = lmt_json[\"Segment\"]\n",
    "a5 = lmt_json[\"EuroStandard\"]\n",
    "a6 = lmt_json[\"Stock\"]\n",
    "a7 = lmt_json[\"MeanActivity\"]\n",
    "#• Energy consumption (TJ)in kWh/100 km for Three wheeler, Electric, Cargo, Vehicle = 8.7\n",
    "#• Energy consumption (TJ)in kWh/100 km for Transit, Electric, Cargo, Vehicle = 22.7\n",
    "#• Energy consumption (TJ)in kWh/100 km for Big Transit, Electric, Cargo, Vehicle = 25.0 \n",
    "if a2 == \"Three-wheeler\" and a3 == \"Electric\" and a4 ==\"Cargo\" and a5 == \"Vehicle\":\n",
    "    factor = 0.087 \n",
    "elif a2 == \"Transit\" and a3 == \"Electric\" and a4 ==\"Cargo\" and a5 == \"Vehicle\":\n",
    "    factor = 0.227\n",
    "elif a2 == \"Big Transit\" and a3 == \"Electric\" and a4 ==\"Cargo\" and a5 == \"Vehicle\":\n",
    "    factor = 0.250\n",
    "else:\n",
    "    factor = 0.0\n",
    "a8 = factor * 3.6 * 10**(-6) * a7\n",
    "a9 = factor * a7\n",
    "\n",
    "df2_1 = pd.DataFrame([[a1, a2, a3,a4,a5,a6,a7,a8,a9]], columns = df2.columns)\n",
    "df2_1.to_excel(\"lmt_LEAD_input_to_EVCO2_2_energy_consumption.xlsx\", index = False)"
   ]
  },
  {
   "cell_type": "code",
   "execution_count": 6,
   "id": "913ca6ed",
   "metadata": {},
   "outputs": [],
   "source": [
    "df4 = pd.read_excel(\"lmt_LEAD_input_to_EVCO2_factors.xlsx\")\n",
    "df4[\"temp\"] = df4[\"Emissions_Factor\"] * df4[\"Generation_percentage\"] / 100\n",
    "temp = sum(df4[\"temp\"].tolist())\n",
    "df5 = pd.read_excel(\"lmt_LEAD_input_to_EVCO2_2_energy_consumption.xlsx\")\n",
    "df5[\"temp1\"] = df5[\"Stock\"] * df5[\"energykwh\"]\n",
    "temp1 = df5[\"temp1\"].tolist()[0]\n",
    "if not os.path.exists('./Response_from_EVCO2'):\n",
    "    os.makedirs('Response_from_EVCO2')\n",
    "\n",
    "\n",
    "with open('./Response_from_EVCO2/EV_CO2_EMISSIONS_2.csv', \"w\") as f1:\n",
    "    print('\"\",\"date\",\"emissions_gCO2\"', file=f1)\n",
    "    print('\"1\",' + date2 + ',' + str(round(temp * temp1, 2)), file=f1)\n",
    "\n",
    "with open('./Response_from_EVCO2/EV_CO2_EMISSIONS.csv', \"w\") as f1:\n",
    "    print('\"\",\"date\",\"emissions_gCO2\"', file=f1)\n",
    "    print('\"1\",' + date2 + ',' + str(round(temp * temp1, 2)), file=f1)"
   ]
  },
  {
   "cell_type": "code",
   "execution_count": null,
   "id": "d9b58fe8",
   "metadata": {},
   "outputs": [],
   "source": [
    "import shutil\n",
    "\n",
    "source = 'lmt_LEAD_input_to_EVCO2_2_energy_consumption.xlsx'\n",
    "target = 'Response_from_EVCO2/lmt_LEAD_input_to_EVCO2_energy_consumption.xlsx'\n",
    "shutil.copy (source, target)"
   ]
  }
 ],
 "metadata": {
  "kernelspec": {
   "display_name": "Python 3.8.11 ('base')",
   "language": "python",
   "name": "python3"
  },
  "language_info": {
   "codemirror_mode": {
    "name": "ipython",
    "version": 3
   },
   "file_extension": ".py",
   "mimetype": "text/x-python",
   "name": "python",
   "nbconvert_exporter": "python",
   "pygments_lexer": "ipython3",
   "version": "3.8.13"
  },
  "vscode": {
   "interpreter": {
    "hash": "40d3a090f54c6569ab1632332b64b2c03c39dcf918b08424e98f38b5ae0af88f"
   }
  }
 },
 "nbformat": 4,
 "nbformat_minor": 5
}
